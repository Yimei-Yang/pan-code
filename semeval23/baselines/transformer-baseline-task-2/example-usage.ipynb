{
 "cells": [
  {
   "cell_type": "markdown",
   "id": "b12000a6-1170-4fa0-b2f6-01234fe106d2",
   "metadata": {},
   "source": [
    "# Step 0: Prepare Some Data"
   ]
  },
  {
   "cell_type": "code",
   "execution_count": 1,
   "id": "63a36038-56f1-4b92-966e-0df614fcac17",
   "metadata": {},
   "outputs": [
    {
     "data": {
      "text/html": [
       "<div>\n",
       "<style scoped>\n",
       "    .dataframe tbody tr th:only-of-type {\n",
       "        vertical-align: middle;\n",
       "    }\n",
       "\n",
       "    .dataframe tbody tr th {\n",
       "        vertical-align: top;\n",
       "    }\n",
       "\n",
       "    .dataframe thead th {\n",
       "        text-align: right;\n",
       "    }\n",
       "</style>\n",
       "<table border=\"1\" class=\"dataframe\">\n",
       "  <thead>\n",
       "    <tr style=\"text-align: right;\">\n",
       "      <th></th>\n",
       "      <th>uuid</th>\n",
       "      <th>postText</th>\n",
       "      <th>targetParagraphs</th>\n",
       "      <th>targetTitle</th>\n",
       "      <th>targetDescription</th>\n",
       "      <th>targetUrl</th>\n",
       "      <th>provenance</th>\n",
       "      <th>spoiler</th>\n",
       "      <th>spoilerPositions</th>\n",
       "      <th>tags</th>\n",
       "    </tr>\n",
       "  </thead>\n",
       "  <tbody>\n",
       "    <tr>\n",
       "      <th>0</th>\n",
       "      <td>b2303ab7-f978-4576-b563-899f73397ed5</td>\n",
       "      <td>[Guess who hasn't seen the Star Wars: The Forc...</td>\n",
       "      <td>[On YouTube alone, the teaser trailer for Star...</td>\n",
       "      <td>George Lucas doesn't 'know anything about' the...</td>\n",
       "      <td>On YouTube alone, the teaser trailer for Star ...</td>\n",
       "      <td>http://polygon.com/e/7119322</td>\n",
       "      <td>{'source': 'anonymized', 'humanSpoiler': 'Geor...</td>\n",
       "      <td>[George Lucas]</td>\n",
       "      <td>[[[0, 151], [0, 163]]]</td>\n",
       "      <td>[phrase]</td>\n",
       "    </tr>\n",
       "    <tr>\n",
       "      <th>1</th>\n",
       "      <td>09f9794e-134e-4e58-8ec2-8259ec40c136</td>\n",
       "      <td>[Has \"Star Trek 3\" found its director?]</td>\n",
       "      <td>[Joe Cornish could replace J.J. Abrams as king...</td>\n",
       "      <td>Joe Cornish Rumored For 'Star Trek 3' Director...</td>\n",
       "      <td>Joe Cornish could replace J.J. Abrams as king ...</td>\n",
       "      <td>http://huff.to/1aVGhr4</td>\n",
       "      <td>{'source': 'anonymized', 'humanSpoiler': 'This...</td>\n",
       "      <td>[Joe Cornish could replace J.J. Abrams as king...</td>\n",
       "      <td>[[[0, 0], [0, 74]]]</td>\n",
       "      <td>[passage]</td>\n",
       "    </tr>\n",
       "  </tbody>\n",
       "</table>\n",
       "</div>"
      ],
      "text/plain": [
       "                                   uuid  \\\n",
       "0  b2303ab7-f978-4576-b563-899f73397ed5   \n",
       "1  09f9794e-134e-4e58-8ec2-8259ec40c136   \n",
       "\n",
       "                                            postText  \\\n",
       "0  [Guess who hasn't seen the Star Wars: The Forc...   \n",
       "1            [Has \"Star Trek 3\" found its director?]   \n",
       "\n",
       "                                    targetParagraphs  \\\n",
       "0  [On YouTube alone, the teaser trailer for Star...   \n",
       "1  [Joe Cornish could replace J.J. Abrams as king...   \n",
       "\n",
       "                                         targetTitle  \\\n",
       "0  George Lucas doesn't 'know anything about' the...   \n",
       "1  Joe Cornish Rumored For 'Star Trek 3' Director...   \n",
       "\n",
       "                                   targetDescription  \\\n",
       "0  On YouTube alone, the teaser trailer for Star ...   \n",
       "1  Joe Cornish could replace J.J. Abrams as king ...   \n",
       "\n",
       "                      targetUrl  \\\n",
       "0  http://polygon.com/e/7119322   \n",
       "1        http://huff.to/1aVGhr4   \n",
       "\n",
       "                                          provenance  \\\n",
       "0  {'source': 'anonymized', 'humanSpoiler': 'Geor...   \n",
       "1  {'source': 'anonymized', 'humanSpoiler': 'This...   \n",
       "\n",
       "                                             spoiler        spoilerPositions  \\\n",
       "0                                     [George Lucas]  [[[0, 151], [0, 163]]]   \n",
       "1  [Joe Cornish could replace J.J. Abrams as king...     [[[0, 0], [0, 74]]]   \n",
       "\n",
       "        tags  \n",
       "0   [phrase]  \n",
       "1  [passage]  "
      ]
     },
     "execution_count": 1,
     "metadata": {},
     "output_type": "execute_result"
    }
   ],
   "source": [
    "import pandas as pd\n",
    "import tira\n",
    "\n",
    "# Two Example entries from the training data.\n",
    "df = pd.DataFrame([\n",
    "    {\"uuid\": \"b2303ab7-f978-4576-b563-899f73397ed5\", \"postText\": [\"Guess who hasn't seen the Star Wars: The Force awakens trailer?\"], \"targetParagraphs\": [\"On YouTube alone, the teaser trailer for Star Wars: The Force Awakens has more than 12 million views, but you can count one person out of that number: George Lucas, the man who created the Star Wars universe.\", \"Page Six asked Lucas for his thoughts on the 88-second glimpse into the future of the galaxy far, far away, only to discover that he had none.\", \"\\\"I don't know anything about it,\\\" Lucas said. \\\"I haven't seen it yet.\\\"\", \"Asked why, he explained that it was \\\"Because it's not in the movie theater. I like going to the movies and watching the whole thing there.\", \"\\\"I plan to see it when it's released.\\\"\", \"The filmmaker sold Lucasfilm and its attending franchises to Disney in October 2012 in a deal worth more than $4 billion. At the announcement, Disney revealed that Star Wars: Episode VII was in production, based on Lucas' outline. According to Disney's announcement, Lucas would serve as a \\\"creative consultant\\\" for the franchise.\", \"Disney announced the cast of the next installment, which includes actors from the original trilogy, in April 2014. The first trailer hit on Black Friday. Directed by J.J. Abrams, Star Wars: The Force Awakens is slated to open Dec. 15, 2015. You can watch the teaser trailer below. For more on what it might mean, be sure to read Polygon's analysis.\"], \"targetTitle\": \"George Lucas doesn't 'know anything about' the new Star Wars trailer\", \"targetDescription\": \"On YouTube alone, the teaser trailer for Star Wars: The Force Awakens has more than 12 million views, but you can count one person out of that number: George Lucas, the man who created the Star...\", \"targetUrl\": \"http://polygon.com/e/7119322\", \"provenance\": {\"source\": \"anonymized\", \"humanSpoiler\": \"George Lucas.\", \"spoilerPublisher\": \"SavedYouAClick\"}, \"spoiler\": [\"George Lucas\"], \"spoilerPositions\": [[[0, 151], [0, 163]]], \"tags\": [\"phrase\"]},\n",
    "    {\"uuid\": \"09f9794e-134e-4e58-8ec2-8259ec40c136\", \"postText\": [\"Has \\\"Star Trek 3\\\" found its director?\"], \"targetParagraphs\": [\"Joe Cornish could replace J.J. Abrams as king of the \\\"Star Trek\\\" universe. That's the report from Deadline.com's Mike Fleming, who writes that Paramount \\\"is sweet\\\" on the idea of Cornish directing the franchise's next installment.\", \"This isn't the first time Cornish, who directed the cult hit \\\"Attack the Block\\\" and co-wrote the script for \\\"Ant-Man\\\" with Edgar Wright, has had his name attached to \\\"Star Trek 3.\\\" Back in May, Latino Review reporter Umberto \\\"El Mayimbe\\\" Gonzalez tweeted that Cornish was under consideration as a possible replacement for Abrams, who is next directing \\\"Star Wars: Episode VII.\\\"\", \"I guess y'all wanna know about who might be directing STAR TREK 3 if it ever goes. Heard Joe Cornish BUT also heard he's on a list of names. — elmayimbe (@elmayimbe) May 23, 2013\", \"I'm NOT saying Joe Cornish is the guy, but what I am saying is the he is definitely one of NUMEROUS contenders. — elmayimbe (@elmayimbe) May 23, 2013\", \"Other reported contenders for \\\"Star Trek 3\\\" have included Jon M. Chu and Rupert Wyatt. In an email to HuffPost Entertainment, however, Chu's representatives denied that \\\"G.I. Joe: Retaliation\\\" director was up for the job. Wyatt's involvement was never confirmed or denied, but Abrams did discuss the \\\"Rise of the Planet of the Apes\\\" director in an interview with HitFix.\", \"\\\"Whomever it is that directs the film will be someone we all know is going to keep the cast and crew in good hands,\\\" Abrams told Collider back in September. \\\"I feel very lucky to have been part of it, and it definitely feels like the right time to let someone come in and do their own thing. I certainly don’t want someone to come in and try to do what I would have done. We want to hire someone who's gonna come in and bring their own sensibility. I'm very excited to see what comes next, despite feeling jealous of whomever that person is.\\\"\", \"HuffPost Entertainment contacted Cornish's representatives for comment on the Deadline.com rumor; this post will be updated if they respond. For more on Cornish, meanwhile, head to Deadline.com.\", \"[via Deadline.com]\"], \"targetTitle\": \"Joe Cornish Rumored For 'Star Trek 3' Director Job\", \"targetDescription\": \"Joe Cornish could replace J.J. Abrams as king of the \\\"Star Trek\\\" universe. That's the report from Deadline.com's Mike Fleming,\", \"targetUrl\": \"http://huff.to/1aVGhr4\", \"provenance\": {\"source\": \"anonymized\", \"humanSpoiler\": \"This article doesn't know but the rumor is Joe Cornish\", \"spoilerPublisher\": \"HuffPoSpoilers\"}, \"spoiler\": [\"Joe Cornish could replace J.J. Abrams as king of the \\\"Star Trek\\\" universe.\"], \"spoilerPositions\": [[[0, 0], [0, 74]]], \"tags\": [\"passage\"]},\n",
    "])\n",
    "\n",
    "df"
   ]
  },
  {
   "cell_type": "markdown",
   "id": "9e572e05-f9ea-4560-92b4-a9b0182d37ed",
   "metadata": {},
   "source": [
    "# Step 1: Have a Working Approach\n",
    "\n",
    "First, you should have an running approach that works without docker on your localhost and uses something as above as input"
   ]
  },
  {
   "cell_type": "code",
   "execution_count": 3,
   "id": "10fe7370-7942-4d0b-87ce-683a911839d2",
   "metadata": {},
   "outputs": [
    {
     "name": "stderr",
     "output_type": "stream",
     "text": [
      "/opt/conda/lib/python3.7/site-packages/tqdm/auto.py:22: TqdmWarning: IProgress not found. Please update jupyter and ipywidgets. See https://ipywidgets.readthedocs.io/en/stable/user_install.html\n",
      "  from .autonotebook import tqdm as notebook_tqdm\n"
     ]
    },
    {
     "name": "stdout",
     "output_type": "stream",
     "text": [
      "10/17/2022 15:16:56 - WARNING - run_qa -   Process rank: -1, device: cpu, n_gpu: 0distributed training: False, 16-bits training: False\n",
      "10/17/2022 15:16:56 - INFO - run_qa -   Training/evaluation parameters TrainingArguments(\n",
      "_n_gpu=0,\n",
      "adafactor=False,\n",
      "adam_beta1=0.9,\n",
      "adam_beta2=0.999,\n",
      "adam_epsilon=1e-08,\n",
      "auto_find_batch_size=False,\n",
      "bf16=False,\n",
      "bf16_full_eval=False,\n",
      "data_seed=None,\n",
      "dataloader_drop_last=False,\n",
      "dataloader_num_workers=0,\n",
      "dataloader_pin_memory=True,\n",
      "ddp_bucket_cap_mb=None,\n",
      "ddp_find_unused_parameters=None,\n",
      "ddp_timeout=1800,\n",
      "debug=[],\n",
      "deepspeed=None,\n",
      "disable_tqdm=False,\n",
      "do_eval=False,\n",
      "do_predict=False,\n",
      "do_train=False,\n",
      "eval_accumulation_steps=None,\n",
      "eval_delay=0,\n",
      "eval_steps=None,\n",
      "evaluation_strategy=no,\n",
      "fp16=False,\n",
      "fp16_backend=auto,\n",
      "fp16_full_eval=False,\n",
      "fp16_opt_level=O1,\n",
      "fsdp=[],\n",
      "fsdp_min_num_params=0,\n",
      "fsdp_transformer_layer_cls_to_wrap=None,\n",
      "full_determinism=False,\n",
      "gradient_accumulation_steps=1,\n",
      "gradient_checkpointing=False,\n",
      "greater_is_better=None,\n",
      "group_by_length=False,\n",
      "half_precision_backend=auto,\n",
      "hub_model_id=None,\n",
      "hub_private_repo=False,\n",
      "hub_strategy=every_save,\n",
      "hub_token=<HUB_TOKEN>,\n",
      "ignore_data_skip=False,\n",
      "include_inputs_for_metrics=False,\n",
      "jit_mode_eval=False,\n",
      "label_names=None,\n",
      "label_smoothing_factor=0.0,\n",
      "learning_rate=5e-05,\n",
      "length_column_name=length,\n",
      "load_best_model_at_end=False,\n",
      "local_rank=-1,\n",
      "log_level=passive,\n",
      "log_level_replica=passive,\n",
      "log_on_each_node=True,\n",
      "logging_dir=/tmp/ignored/runs/Oct17_15-16-56_L390,\n",
      "logging_first_step=False,\n",
      "logging_nan_inf_filter=True,\n",
      "logging_steps=500,\n",
      "logging_strategy=steps,\n",
      "lr_scheduler_type=linear,\n",
      "max_grad_norm=1.0,\n",
      "max_steps=-1,\n",
      "metric_for_best_model=None,\n",
      "mp_parameters=,\n",
      "no_cuda=False,\n",
      "num_train_epochs=3.0,\n",
      "optim=adamw_hf,\n",
      "output_dir=/tmp/ignored,\n",
      "overwrite_output_dir=False,\n",
      "past_index=-1,\n",
      "per_device_eval_batch_size=8,\n",
      "per_device_train_batch_size=8,\n",
      "prediction_loss_only=False,\n",
      "push_to_hub=False,\n",
      "push_to_hub_model_id=None,\n",
      "push_to_hub_organization=None,\n",
      "push_to_hub_token=<PUSH_TO_HUB_TOKEN>,\n",
      "ray_scope=last,\n",
      "remove_unused_columns=True,\n",
      "report_to=[],\n",
      "resume_from_checkpoint=None,\n",
      "run_name=/tmp/ignored,\n",
      "save_on_each_node=False,\n",
      "save_steps=500,\n",
      "save_strategy=steps,\n",
      "save_total_limit=None,\n",
      "seed=42,\n",
      "sharded_ddp=[],\n",
      "skip_memory_metrics=True,\n",
      "tf32=None,\n",
      "torchdynamo=None,\n",
      "tpu_metrics_debug=False,\n",
      "tpu_num_cores=None,\n",
      "use_ipex=False,\n",
      "use_legacy_prediction_loop=False,\n",
      "use_mps_device=False,\n",
      "warmup_ratio=0.0,\n",
      "warmup_steps=0,\n",
      "weight_decay=0.0,\n",
      "xpu_backend=None,\n",
      ")\n"
     ]
    },
    {
     "name": "stderr",
     "output_type": "stream",
     "text": [
      "[INFO|configuration_utils.py:651] 2022-10-17 15:16:56,659 >> loading configuration file /model/config.json\n",
      "[INFO|configuration_utils.py:705] 2022-10-17 15:16:56,676 >> Model config DebertaConfig {\n",
      "  \"_name_or_path\": \"/model\",\n",
      "  \"architectures\": [\n",
      "    \"DebertaForQuestionAnswering\"\n",
      "  ],\n",
      "  \"attention_probs_dropout_prob\": 0.1,\n",
      "  \"hidden_act\": \"gelu\",\n",
      "  \"hidden_dropout_prob\": 0.1,\n",
      "  \"hidden_size\": 1024,\n",
      "  \"initializer_range\": 0.02,\n",
      "  \"intermediate_size\": 4096,\n",
      "  \"layer_norm_eps\": 1e-07,\n",
      "  \"max_position_embeddings\": 512,\n",
      "  \"max_relative_positions\": -1,\n",
      "  \"model_type\": \"deberta\",\n",
      "  \"num_attention_heads\": 16,\n",
      "  \"num_hidden_layers\": 24,\n",
      "  \"pad_token_id\": 0,\n",
      "  \"pooler_dropout\": 0,\n",
      "  \"pooler_hidden_act\": \"gelu\",\n",
      "  \"pooler_hidden_size\": 1024,\n",
      "  \"pos_att_type\": [\n",
      "    \"c2p\",\n",
      "    \"p2c\"\n",
      "  ],\n",
      "  \"position_biased_input\": false,\n",
      "  \"relative_attention\": true,\n",
      "  \"transformers_version\": \"4.23.1\",\n",
      "  \"type_vocab_size\": 0,\n",
      "  \"vocab_size\": 50265\n",
      "}\n",
      "\n",
      "[INFO|tokenization_utils_base.py:1771] 2022-10-17 15:16:56,680 >> loading file vocab.json\n",
      "[INFO|tokenization_utils_base.py:1771] 2022-10-17 15:16:56,681 >> loading file merges.txt\n",
      "[INFO|tokenization_utils_base.py:1771] 2022-10-17 15:16:56,682 >> loading file tokenizer.json\n",
      "[INFO|tokenization_utils_base.py:1771] 2022-10-17 15:16:56,683 >> loading file added_tokens.json\n",
      "[INFO|tokenization_utils_base.py:1771] 2022-10-17 15:16:56,683 >> loading file special_tokens_map.json\n",
      "[INFO|tokenization_utils_base.py:1771] 2022-10-17 15:16:56,684 >> loading file tokenizer_config.json\n",
      "[INFO|modeling_utils.py:2153] 2022-10-17 15:16:56,814 >> loading weights file /model/pytorch_model.bin\n",
      "[INFO|modeling_utils.py:2606] 2022-10-17 15:17:01,110 >> All model checkpoint weights were used when initializing DebertaForQuestionAnswering.\n",
      "\n",
      "[INFO|modeling_utils.py:2615] 2022-10-17 15:17:01,112 >> All the weights of DebertaForQuestionAnswering were initialized from the model checkpoint at /model.\n",
      "If your task is similar to the task the model of the checkpoint was trained on, you can already use DebertaForQuestionAnswering for predictions without further training.\n"
     ]
    },
    {
     "name": "stdout",
     "output_type": "stream",
     "text": [
      "10/17/2022 15:17:01 - WARNING - datasets.fingerprint -   Parameter 'function'=<function main.<locals>.prepare_validation_features at 0x7f8aa7987cb0> of the transform datasets.arrow_dataset.Dataset._map_single couldn't be hashed properly, a random hash was used instead. Make sure your transforms and parameters are serializable with pickle or dill for the dataset fingerprinting and caching to work. If you reuse this transform, the caching mechanism will consider it to be different from the previous calls and recompute everything. This warning is only showed once. Subsequent hashing failures won't be showed.\n"
     ]
    },
    {
     "name": "stderr",
     "output_type": "stream",
     "text": [
      "  0%|                                                                                                                       | 0/1 [00:00<?, ?ba/s]\n"
     ]
    },
    {
     "name": "stdout",
     "output_type": "stream",
     "text": [
      "10/17/2022 15:17:01 - INFO - run_qa -   *** Predict ***\n"
     ]
    },
    {
     "name": "stderr",
     "output_type": "stream",
     "text": [
      "[INFO|trainer.py:726] 2022-10-17 15:17:01,322 >> The following columns in the test set don't have a corresponding argument in `DebertaForQuestionAnswering.forward` and have been ignored: example_id, offset_mapping. If example_id, offset_mapping are not expected by `DebertaForQuestionAnswering.forward`,  you can safely ignore this message.\n",
      "[INFO|trainer.py:2907] 2022-10-17 15:17:01,326 >> ***** Running Prediction *****\n",
      "[INFO|trainer.py:2909] 2022-10-17 15:17:01,327 >>   Num examples = 3\n",
      "[INFO|trainer.py:2912] 2022-10-17 15:17:01,327 >>   Batch size = 8\n",
      "/opt/conda/lib/python3.7/site-packages/transformers/models/deberta/modeling_deberta.py:679: UserWarning: To copy construct from a tensor, it is recommended to use sourceTensor.clone().detach() or sourceTensor.clone().detach().requires_grad_(True), rather than torch.tensor(sourceTensor).\n",
      "  query_layer = query_layer / torch.tensor(scale, dtype=query_layer.dtype)\n",
      "/opt/conda/lib/python3.7/site-packages/transformers/models/deberta/modeling_deberta.py:745: UserWarning: To copy construct from a tensor, it is recommended to use sourceTensor.clone().detach() or sourceTensor.clone().detach().requires_grad_(True), rather than torch.tensor(sourceTensor).\n",
      "  p2c_att = torch.matmul(key_layer, torch.tensor(pos_query_layer.transpose(-1, -2), dtype=key_layer.dtype))\n"
     ]
    },
    {
     "data": {
      "text/html": [
       "\n",
       "    <div>\n",
       "      \n",
       "      <progress value='1' max='1' style='width:300px; height:20px; vertical-align: middle;'></progress>\n",
       "      [1/1 : < :]\n",
       "    </div>\n",
       "    "
      ],
      "text/plain": [
       "<IPython.core.display.HTML object>"
      ]
     },
     "metadata": {},
     "output_type": "display_data"
    },
    {
     "name": "stdout",
     "output_type": "stream",
     "text": [
      "10/17/2022 15:17:09 - INFO - utils_qa -   Post-processing 2 example predictions split into 3 features.\n"
     ]
    },
    {
     "name": "stderr",
     "output_type": "stream",
     "text": [
      "100%|██████████████████████████████████████████████████████████████████████████████████████████████████████████████| 2/2 [00:00<00:00, 144.40it/s]"
     ]
    },
    {
     "name": "stdout",
     "output_type": "stream",
     "text": [
      "10/17/2022 15:17:09 - INFO - utils_qa -   Saving predictions to /tmp/ignored/predict_predictions.json.\n",
      "10/17/2022 15:17:09 - INFO - utils_qa -   Saving nbest_preds to /tmp/ignored/predict_nbest_predictions.json.\n"
     ]
    },
    {
     "name": "stderr",
     "output_type": "stream",
     "text": [
      "\n"
     ]
    },
    {
     "data": {
      "text/html": [
       "<div>\n",
       "<style scoped>\n",
       "    .dataframe tbody tr th:only-of-type {\n",
       "        vertical-align: middle;\n",
       "    }\n",
       "\n",
       "    .dataframe tbody tr th {\n",
       "        vertical-align: top;\n",
       "    }\n",
       "\n",
       "    .dataframe thead th {\n",
       "        text-align: right;\n",
       "    }\n",
       "</style>\n",
       "<table border=\"1\" class=\"dataframe\">\n",
       "  <thead>\n",
       "    <tr style=\"text-align: right;\">\n",
       "      <th></th>\n",
       "      <th>uuid</th>\n",
       "      <th>spoiler</th>\n",
       "    </tr>\n",
       "  </thead>\n",
       "  <tbody>\n",
       "    <tr>\n",
       "      <th>0</th>\n",
       "      <td>b2303ab7-f978-4576-b563-899f73397ed5</td>\n",
       "      <td>George Lucas</td>\n",
       "    </tr>\n",
       "    <tr>\n",
       "      <th>1</th>\n",
       "      <td>09f9794e-134e-4e58-8ec2-8259ec40c136</td>\n",
       "      <td>Joe Cornish</td>\n",
       "    </tr>\n",
       "  </tbody>\n",
       "</table>\n",
       "</div>"
      ],
      "text/plain": [
       "                                   uuid       spoiler\n",
       "0  b2303ab7-f978-4576-b563-899f73397ed5  George Lucas\n",
       "1  09f9794e-134e-4e58-8ec2-8259ec40c136   Joe Cornish"
      ]
     },
     "execution_count": 3,
     "metadata": {},
     "output_type": "execute_result"
    }
   ],
   "source": [
    "import importlib\n",
    "baseline = importlib.import_module('transformer-baseline-task-2')\n",
    "\n",
    "results = pd.DataFrame(baseline.predict([i for _, i in df.iterrows()]))\n",
    "\n",
    "results"
   ]
  },
  {
   "cell_type": "markdown",
   "id": "1f2ce4d8-9a38-4345-8039-f6be1b18f1e0",
   "metadata": {},
   "source": [
    "# Step 2: Test Your Approach also works in Docker\n",
    "\n",
    "As soon as you have finished step 1 and have an approach that works on your system, you should than wrap it into a docker container and can still test it locally via `tira.run`.\n"
   ]
  },
  {
   "cell_type": "code",
   "execution_count": 4,
   "id": "30a1250d-876a-4707-b179-8ab0fea4522b",
   "metadata": {},
   "outputs": [
    {
     "data": {
      "text/html": [
       "<div>\n",
       "<style scoped>\n",
       "    .dataframe tbody tr th:only-of-type {\n",
       "        vertical-align: middle;\n",
       "    }\n",
       "\n",
       "    .dataframe tbody tr th {\n",
       "        vertical-align: top;\n",
       "    }\n",
       "\n",
       "    .dataframe thead th {\n",
       "        text-align: right;\n",
       "    }\n",
       "</style>\n",
       "<table border=\"1\" class=\"dataframe\">\n",
       "  <thead>\n",
       "    <tr style=\"text-align: right;\">\n",
       "      <th></th>\n",
       "      <th>uuid</th>\n",
       "      <th>spoiler</th>\n",
       "    </tr>\n",
       "  </thead>\n",
       "  <tbody>\n",
       "    <tr>\n",
       "      <th>0</th>\n",
       "      <td>b2303ab7-f978-4576-b563-899f73397ed5</td>\n",
       "      <td>George Lucas</td>\n",
       "    </tr>\n",
       "    <tr>\n",
       "      <th>1</th>\n",
       "      <td>09f9794e-134e-4e58-8ec2-8259ec40c136</td>\n",
       "      <td>Joe Cornish</td>\n",
       "    </tr>\n",
       "  </tbody>\n",
       "</table>\n",
       "</div>"
      ],
      "text/plain": [
       "                                   uuid       spoiler\n",
       "0  b2303ab7-f978-4576-b563-899f73397ed5  George Lucas\n",
       "1  09f9794e-134e-4e58-8ec2-8259ec40c136   Joe Cornish"
      ]
     },
     "execution_count": 4,
     "metadata": {},
     "output_type": "execute_result"
    }
   ],
   "source": [
    "results = tira.run(\n",
    "    image = 'webis/pan-clickbait-spoiling-baselines:task2-transformer-0.0.1',\n",
    "    command = '/transformer-baseline-task2.py --input $inputDataset/input.jsonl --output $outputDir/run.jsonl',\n",
    "    data=df,\n",
    "    verbose=False,\n",
    "    evaluate=False,\n",
    ")\n",
    "\n",
    "results"
   ]
  },
  {
   "cell_type": "code",
   "execution_count": null,
   "id": "27d8c225-3521-4480-ae51-3c1c49f70375",
   "metadata": {},
   "outputs": [],
   "source": []
  }
 ],
 "metadata": {
  "kernelspec": {
   "display_name": "Python 3 (ipykernel)",
   "language": "python",
   "name": "python3"
  },
  "language_info": {
   "codemirror_mode": {
    "name": "ipython",
    "version": 3
   },
   "file_extension": ".py",
   "mimetype": "text/x-python",
   "name": "python",
   "nbconvert_exporter": "python",
   "pygments_lexer": "ipython3",
   "version": "3.7.13"
  }
 },
 "nbformat": 4,
 "nbformat_minor": 5
}
