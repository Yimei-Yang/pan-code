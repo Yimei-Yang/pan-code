{
 "cells": [
  {
   "cell_type": "markdown",
   "id": "b12000a6-1170-4fa0-b2f6-01234fe106d2",
   "metadata": {},
   "source": [
    "# Step 0: Prepare Some Data"
   ]
  },
  {
   "cell_type": "code",
   "execution_count": 1,
   "id": "63a36038-56f1-4b92-966e-0df614fcac17",
   "metadata": {},
   "outputs": [
    {
     "data": {
      "text/html": [
       "<div>\n",
       "<style scoped>\n",
       "    .dataframe tbody tr th:only-of-type {\n",
       "        vertical-align: middle;\n",
       "    }\n",
       "\n",
       "    .dataframe tbody tr th {\n",
       "        vertical-align: top;\n",
       "    }\n",
       "\n",
       "    .dataframe thead th {\n",
       "        text-align: right;\n",
       "    }\n",
       "</style>\n",
       "<table border=\"1\" class=\"dataframe\">\n",
       "  <thead>\n",
       "    <tr style=\"text-align: right;\">\n",
       "      <th></th>\n",
       "      <th>uuid</th>\n",
       "      <th>postText</th>\n",
       "      <th>targetParagraphs</th>\n",
       "      <th>targetTitle</th>\n",
       "      <th>spoiler</th>\n",
       "    </tr>\n",
       "  </thead>\n",
       "  <tbody>\n",
       "    <tr>\n",
       "      <th>0</th>\n",
       "      <td>example-1</td>\n",
       "      <td>[This \"Star Wars\" theory about Rey will blow your mind]</td>\n",
       "      <td>[But a new theory has awakened: that Rey is in fact Emperor Palpatine's granddaughter.]</td>\n",
       "      <td>This \"Star Wars\" Theory About Rey Is Insane</td>\n",
       "      <td>[that Rey is in fact Emperor Palpatine's granddaughter]</td>\n",
       "    </tr>\n",
       "    <tr>\n",
       "      <th>1</th>\n",
       "      <td>example-2</td>\n",
       "      <td>[J.K. Rowling has revealed a heartbreaking truth about Hagrid]</td>\n",
       "      <td>[Rowling's response may point to the fact that the spell is simply too difficult for Hagrid, who was expelled from Hogwarts as a teenager, to perform. But fans were also worried that the lovable half-giant, abandoned by his mother as a child, may just not have enough happy memories to produce a Patronus. Oh, Hagrid!]</td>\n",
       "      <td>J.K. Rowling Has Revealed A Heartbreaking Truth About Hagrid</td>\n",
       "      <td>not have enough happy memories to produce a Patronus</td>\n",
       "    </tr>\n",
       "  </tbody>\n",
       "</table>\n",
       "</div>"
      ],
      "text/plain": [
       "        uuid                                                        postText  \\\n",
       "0  example-1  [This \"Star Wars\" theory about Rey will blow your mind]          \n",
       "1  example-2  [J.K. Rowling has revealed a heartbreaking truth about Hagrid]   \n",
       "\n",
       "                                                                                                                                                                                                                                                                                                                 targetParagraphs  \\\n",
       "0  [But a new theory has awakened: that Rey is in fact Emperor Palpatine's granddaughter.]                                                                                                                                                                                                                                          \n",
       "1  [Rowling's response may point to the fact that the spell is simply too difficult for Hagrid, who was expelled from Hogwarts as a teenager, to perform. But fans were also worried that the lovable half-giant, abandoned by his mother as a child, may just not have enough happy memories to produce a Patronus. Oh, Hagrid!]   \n",
       "\n",
       "                                                    targetTitle  \\\n",
       "0  This \"Star Wars\" Theory About Rey Is Insane                    \n",
       "1  J.K. Rowling Has Revealed A Heartbreaking Truth About Hagrid   \n",
       "\n",
       "                                                   spoiler  \n",
       "0  [that Rey is in fact Emperor Palpatine's granddaughter]  \n",
       "1  not have enough happy memories to produce a Patronus     "
      ]
     },
     "execution_count": 1,
     "metadata": {},
     "output_type": "execute_result"
    }
   ],
   "source": [
    "import pandas as pd\n",
    "pd.set_option('display.max_colwidth', 0)\n",
    "\n",
    "df = pd.DataFrame([\n",
    "    {\"uuid\": \"example-1\", \"postText\": [\"This \\\"Star Wars\\\" theory about Rey will blow your mind\"], \"targetParagraphs\": [\"But a new theory has awakened: that Rey is in fact Emperor Palpatine's granddaughter.\"], \"targetTitle\": \"This \\\"Star Wars\\\" Theory About Rey Is Insane\", \"spoiler\": [\"that Rey is in fact Emperor Palpatine's granddaughter\"]},\n",
    "    {\"uuid\": \"example-2\", \"postText\": [\"J.K. Rowling has revealed a heartbreaking truth about Hagrid\"], \"targetTitle\": \"J.K. Rowling Has Revealed A Heartbreaking Truth About Hagrid\",  \"targetParagraphs\": [\"Rowling's response may point to the fact that the spell is simply too difficult for Hagrid, who was expelled from Hogwarts as a teenager, to perform. But fans were also worried that the lovable half-giant, abandoned by his mother as a child, may just not have enough happy memories to produce a Patronus. Oh, Hagrid!\"], \"spoiler\": \"not have enough happy memories to produce a Patronus\"},\n",
    "])\n",
    "\n",
    "df"
   ]
  },
  {
   "cell_type": "markdown",
   "id": "9e572e05-f9ea-4560-92b4-a9b0182d37ed",
   "metadata": {},
   "source": [
    "# Step 1: Have a running approach"
   ]
  },
  {
   "cell_type": "code",
   "execution_count": 2,
   "id": "10fe7370-7942-4d0b-87ce-683a911839d2",
   "metadata": {},
   "outputs": [
    {
     "data": {
      "text/html": [
       "<div>\n",
       "<style scoped>\n",
       "    .dataframe tbody tr th:only-of-type {\n",
       "        vertical-align: middle;\n",
       "    }\n",
       "\n",
       "    .dataframe tbody tr th {\n",
       "        vertical-align: top;\n",
       "    }\n",
       "\n",
       "    .dataframe thead th {\n",
       "        text-align: right;\n",
       "    }\n",
       "</style>\n",
       "<table border=\"1\" class=\"dataframe\">\n",
       "  <thead>\n",
       "    <tr style=\"text-align: right;\">\n",
       "      <th></th>\n",
       "      <th>uuid</th>\n",
       "      <th>spoiler</th>\n",
       "    </tr>\n",
       "  </thead>\n",
       "  <tbody>\n",
       "    <tr>\n",
       "      <th>0</th>\n",
       "      <td>example-1</td>\n",
       "      <td>This \"Star Wars\" Theory About Rey Is Insane</td>\n",
       "    </tr>\n",
       "    <tr>\n",
       "      <th>1</th>\n",
       "      <td>example-2</td>\n",
       "      <td>J.K. Rowling Has Revealed A Heartbreaking Truth About Hagrid</td>\n",
       "    </tr>\n",
       "  </tbody>\n",
       "</table>\n",
       "</div>"
      ],
      "text/plain": [
       "        uuid                                                       spoiler\n",
       "0  example-1  This \"Star Wars\" Theory About Rey Is Insane                 \n",
       "1  example-2  J.K. Rowling Has Revealed A Heartbreaking Truth About Hagrid"
      ]
     },
     "execution_count": 2,
     "metadata": {},
     "output_type": "execute_result"
    }
   ],
   "source": [
    "import importlib\n",
    "baseline = importlib.import_module('naive-baseline-task-2')\n",
    "\n",
    "pd.DataFrame(baseline.predict([i for _, i in df.iterrows()]))"
   ]
  },
  {
   "cell_type": "markdown",
   "id": "1f2ce4d8-9a38-4345-8039-f6be1b18f1e0",
   "metadata": {},
   "source": [
    "# Step 2: Test your approach also runs in Docker"
   ]
  },
  {
   "cell_type": "code",
   "execution_count": null,
   "id": "2db34ba5-3dec-49f4-aca2-c1d4b35915ab",
   "metadata": {},
   "outputs": [],
   "source": [
    "from tira import run\n",
    "\n",
    "run('clickbait-spoiling/express-pitch')"
   ]
  },
  {
   "cell_type": "code",
   "execution_count": 3,
   "id": "30a1250d-876a-4707-b179-8ab0fea4522b",
   "metadata": {},
   "outputs": [
    {
     "data": {
      "text/html": [
       "<div>\n",
       "<style scoped>\n",
       "    .dataframe tbody tr th:only-of-type {\n",
       "        vertical-align: middle;\n",
       "    }\n",
       "\n",
       "    .dataframe tbody tr th {\n",
       "        vertical-align: top;\n",
       "    }\n",
       "\n",
       "    .dataframe thead th {\n",
       "        text-align: right;\n",
       "    }\n",
       "</style>\n",
       "<table border=\"1\" class=\"dataframe\">\n",
       "  <thead>\n",
       "    <tr style=\"text-align: right;\">\n",
       "      <th></th>\n",
       "      <th>uuid</th>\n",
       "      <th>spoiler</th>\n",
       "    </tr>\n",
       "  </thead>\n",
       "  <tbody>\n",
       "    <tr>\n",
       "      <th>0</th>\n",
       "      <td>example-1</td>\n",
       "      <td>This \"Star Wars\" Theory About Rey Is Insane</td>\n",
       "    </tr>\n",
       "    <tr>\n",
       "      <th>1</th>\n",
       "      <td>example-2</td>\n",
       "      <td>J.K. Rowling Has Revealed A Heartbreaking Truth About Hagrid</td>\n",
       "    </tr>\n",
       "  </tbody>\n",
       "</table>\n",
       "</div>"
      ],
      "text/plain": [
       "        uuid                                                       spoiler\n",
       "0  example-1  This \"Star Wars\" Theory About Rey Is Insane                 \n",
       "1  example-2  J.K. Rowling Has Revealed A Heartbreaking Truth About Hagrid"
      ]
     },
     "execution_count": 3,
     "metadata": {},
     "output_type": "execute_result"
    }
   ],
   "source": [
    "from tira import run\n",
    "\n",
    "run(\n",
    "    image = 'webis/pan-clickbait-spoiling-baselines:task2-naive-0.0.1',\n",
    "    command = '/naive-baseline-task-2.py --input $inputDataset/input.jsonl --output $outputDir/run.jsonl',\n",
    "    data=df,\n",
    "    verbose=False\n",
    ")"
   ]
  }
 ],
 "metadata": {
  "kernelspec": {
   "display_name": "Python 3",
   "language": "python",
   "name": "python3"
  },
  "language_info": {
   "codemirror_mode": {
    "name": "ipython",
    "version": 3
   },
   "file_extension": ".py",
   "mimetype": "text/x-python",
   "name": "python",
   "nbconvert_exporter": "python",
   "pygments_lexer": "ipython3",
   "version": "3.6.14"
  }
 },
 "nbformat": 4,
 "nbformat_minor": 5
}
